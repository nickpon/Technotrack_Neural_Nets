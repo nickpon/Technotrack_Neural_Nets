{
 "cells": [
  {
   "cell_type": "code",
   "execution_count": 1,
   "metadata": {
    "collapsed": true
   },
   "outputs": [],
   "source": [
    "import pickle\n",
    "import numpy as np\n",
    "import PIL.Image\n",
    "import itertools\n",
    "from IPython.core.display import Image, display\n",
    "import scipy.ndimage\n",
    "import random\n",
    "import numpy as np\n",
    "import matplotlib.pylab as plt\n",
    "import tqdm\n",
    "import math\n",
    "\n",
    "# Сказали, что это можно юзать:)\n",
    "from sklearn.model_selection import train_test_split\n",
    "\n",
    "%matplotlib inline"
   ]
  },
  {
   "cell_type": "markdown",
   "metadata": {
    "collapsed": true
   },
   "source": [
    "# Загружаем датасет"
   ]
  },
  {
   "cell_type": "code",
   "execution_count": 2,
   "metadata": {
    "collapsed": true
   },
   "outputs": [],
   "source": [
    "with open('./hw_1_train.pickle', 'rb') as f:\n",
    "    train = pickle.load(f)\n",
    "\n",
    "with open('C:/Users/Ponom/Desktop/hw_1_test_no_lables.pickle', 'rb') as f:\n",
    "    test_no_lables = pickle.load(f)"
   ]
  },
  {
   "cell_type": "code",
   "execution_count": 3,
   "metadata": {
    "scrolled": true
   },
   "outputs": [
    {
     "data": {
      "image/png": "[encoded data removed]",
      "text/plain": [
       "<matplotlib.figure.Figure at 0x27a87dc4748>"
      ]
     },
     "metadata": {},
     "output_type": "display_data"
    }
   ],
   "source": [
    "# Пример, как можно визуализировать данные\n",
    "plt.imshow(train['data'][0].reshape(28,28))\n",
    "\n",
    "# Этой функцией будем убирать ненужный вывод.\n",
    "plt.show()"
   ]
  },
  {
   "cell_type": "code",
   "execution_count": 4,
   "metadata": {},
   "outputs": [
    {
     "data": {
      "text/html": [
       "<div>\n",
       "<style>\n",
       "    .dataframe thead tr:only-child th {\n",
       "        text-align: right;\n",
       "    }\n",
       "\n",
       "    .dataframe thead th {\n",
       "        text-align: left;\n",
       "    }\n",
       "\n",
       "    .dataframe tbody tr th {\n",
       "        vertical-align: top;\n",
       "    }\n",
       "</style>\n",
       "<table border=\"1\" class=\"dataframe\">\n",
       "  <thead>\n",
       "    <tr style=\"text-align: right;\">\n",
       "      <th></th>\n",
       "      <th>Id</th>\n",
       "      <th>Prediction</th>\n",
       "    </tr>\n",
       "  </thead>\n",
       "  <tbody>\n",
       "    <tr>\n",
       "      <th>0</th>\n",
       "      <td>0</td>\n",
       "      <td>0.298782</td>\n",
       "    </tr>\n",
       "    <tr>\n",
       "      <th>1</th>\n",
       "      <td>1</td>\n",
       "      <td>0.985304</td>\n",
       "    </tr>\n",
       "    <tr>\n",
       "      <th>2</th>\n",
       "      <td>2</td>\n",
       "      <td>0.974184</td>\n",
       "    </tr>\n",
       "    <tr>\n",
       "      <th>3</th>\n",
       "      <td>3</td>\n",
       "      <td>0.061595</td>\n",
       "    </tr>\n",
       "    <tr>\n",
       "      <th>4</th>\n",
       "      <td>4</td>\n",
       "      <td>0.604558</td>\n",
       "    </tr>\n",
       "  </tbody>\n",
       "</table>\n",
       "</div>"
      ],
      "text/plain": [
       "   Id  Prediction\n",
       "0   0    0.298782\n",
       "1   1    0.985304\n",
       "2   2    0.974184\n",
       "3   3    0.061595\n",
       "4   4    0.604558"
      ]
     },
     "execution_count": 4,
     "metadata": {},
     "output_type": "execute_result"
    }
   ],
   "source": [
    "# Посмотрим, как должно выглядеть итоговое решение.\n",
    "\n",
    "import pandas as pd\n",
    "df = pd.read_csv('./sample_solution_random.csv')\n",
    "df.head()"
   ]
  },
  {
   "cell_type": "markdown",
   "metadata": {},
   "source": [
    "# Обучаем модель"
   ]
  },
  {
   "cell_type": "code",
   "execution_count": 5,
   "metadata": {
    "collapsed": true
   },
   "outputs": [],
   "source": [
    "# Переопределим метри классов на 0/1.\n",
    "# Отметим, что это эквивалентно тому, что мы определим метки -1/1.\n",
    "# Просто вычисление некоторых функций удет удобнее и приятнее:) Смысл от этого не меняется.\n",
    "\n",
    "y_train = np.array([0 if int(i) == 5 else 1 for i in train['labels']])"
   ]
  },
  {
   "cell_type": "code",
   "execution_count": 6,
   "metadata": {
    "collapsed": true
   },
   "outputs": [],
   "source": [
    "# Нормализуем тренировочные данные.\n",
    "\n",
    "mean = np.mean(train['data'], axis=0)\n",
    "std = np.std(train['data'], axis=0)\n",
    "X_train = (train['data'] - mean) / (std+0.0001)"
   ]
  },
  {
   "cell_type": "code",
   "execution_count": 7,
   "metadata": {
    "collapsed": true
   },
   "outputs": [],
   "source": [
    "# Нормализуем тестовые данные.\n",
    "\n",
    "mean = np.mean(test_no_lables['data'], axis=0)\n",
    "std = np.std(test_no_lables['data'], axis=0)\n",
    "X_test_no_lables = (test_no_lables['data'] - mean) / (std+0.0001)"
   ]
  },
  {
   "cell_type": "code",
   "execution_count": 8,
   "metadata": {
    "collapsed": true
   },
   "outputs": [],
   "source": [
    "# Разделим изначальные тренировочные данные на данные для обучения и валидации.\n",
    "\n",
    "x_train_spl, x_test_spl, y_train_spl, y_test_spl = train_test_split(X_train, y_train, random_state=11, test_size = 0.2)"
   ]
  },
  {
   "cell_type": "code",
   "execution_count": 9,
   "metadata": {
    "collapsed": true
   },
   "outputs": [],
   "source": [
    "def logit(x, w):\n",
    "    return np.dot(x, w)"
   ]
  },
  {
   "cell_type": "code",
   "execution_count": 10,
   "metadata": {
    "collapsed": true
   },
   "outputs": [],
   "source": [
    "def sigmoid(h):\n",
    "    return 1. / (1 + np.exp(-h))"
   ]
  },
  {
   "cell_type": "code",
   "execution_count": 11,
   "metadata": {
    "collapsed": true
   },
   "outputs": [],
   "source": [
    "class MyLogisticRegression(object):\n",
    "    '''\n",
    "    Простая логистическая регрессия для задачи бинарной классификации с градиентным спуском.\n",
    "    '''\n",
    "    \n",
    "    def __init__(self, learning_rate=0.1, max_iter=300, tolerance=1e-15, lamb=0.01):\n",
    "        self._lr = learning_rate\n",
    "        \n",
    "        self._max_iter = max_iter\n",
    "        \n",
    "        # Как часто будем запоминать изменения данных\n",
    "        self._validation_freq = 10\n",
    "        \n",
    "        self._tolerance = tolerance\n",
    "        \n",
    "        # Параметр регуляризации\n",
    "        self._lamb = lamb\n",
    "        \n",
    "        # Листы, по которым будут строиться графики\n",
    "        self._tr_eval_loss = []\n",
    "        self._te_eval_loss = []\n",
    "        self._tr_eval_acc = []\n",
    "        self._te_eval_acc = []\n",
    "        \n",
    "        \n",
    "    def fit(self, X, y, X_test, y_test):\n",
    "        # Добавляем дополнительный признак для w_0\n",
    "        \n",
    "        X = self.__add_intercept(X)\n",
    "        n_objects, n_features = X.shape\n",
    "\n",
    "        self._weights = np.random.normal(scale=0.001, size = n_features)\n",
    "        \n",
    "        # Градиентный спуск\n",
    "        for i in range(self._max_iter):\n",
    "            h = logit(X, self._weights)\n",
    "            z = sigmoid(h)\n",
    "            \n",
    "            grad = np.dot(X.T, (z - y)) / len(y) + self._weights * self._lamb\n",
    "            \n",
    "            self._weights -= self._lr * grad\n",
    "            \n",
    "            if (np.linalg.norm(self._lr * grad) < self._tolerance):\n",
    "                print(\"Сошлось за {} итераций!\".format(i))\n",
    "                break\n",
    "            \n",
    "            if i % self._validation_freq == 0:\n",
    "                h = logit(X, self._weights)\n",
    "                p = sigmoid(h)\n",
    "                \n",
    "                # Для стабильности вычислений\n",
    "                p = np.clip(p, 1e-10, 1 - 1e-10)\n",
    "                \n",
    "                # Запоминаем данные для графиков\n",
    "                self._tr_eval_loss.append(self.__loss(y, p))\n",
    "                self._tr_eval_acc.append(np.mean((p >= 0.5) == y))\n",
    "                self._te_eval_loss.append(self.__loss(y_test, self.predict_proba(X_test)))\n",
    "                self._te_eval_acc.append(np.mean((self.predict(X_test) >= 0.5) == y_test))\n",
    "\n",
    "        \n",
    "    def predict(self, X, threshold=0.5):\n",
    "        X = self.__add_intercept(X)\n",
    "        \n",
    "        return sigmoid(logit(X, self._weights)) >= threshold\n",
    "    \n",
    "    \n",
    "    def predict_proba(self, X):\n",
    "        X = self.__add_intercept(X)\n",
    "        \n",
    "        return sigmoid(logit(X, self._weights))\n",
    "    \n",
    "    \n",
    "    def __add_intercept(self, X):\n",
    "        return np.concatenate((np.ones((X.shape[0], 1)), X), axis=1)\n",
    "    \n",
    "    \n",
    "    def __loss(self, y, p):\n",
    "        return np.mean(y * np.log(p) + (1 - y) * np.log(1 - p)) + self._lamb / 2 * (np.sum(self._weights ** 2))\n",
    "    \n",
    "    def draw(self):\n",
    "        plt.title('Loss')\n",
    "        plt.plot(self._tr_eval_loss, label='train')\n",
    "        plt.plot(self._te_eval_loss, label='test')\n",
    "        plt.xlabel('number of iteration $\\cdot 10$')\n",
    "        plt.legend()\n",
    "        plt.show()\n",
    "        \n",
    "        plt.title('Acc')\n",
    "        plt.plot(self._tr_eval_acc, label='train')\n",
    "        plt.plot(self._te_eval_acc, label='test')\n",
    "        plt.xlabel('number of iteration $\\cdot 10$')\n",
    "        plt.legend()\n",
    "        plt.show() \n",
    "        \n",
    "    def print_log_loss_and_acc(self):\n",
    "        print(self._te_eval_loss[-1], self._te_eval_acc[-1])"
   ]
  },
  {
   "cell_type": "code",
   "execution_count": 12,
   "metadata": {
    "scrolled": true
   },
   "outputs": [],
   "source": [
    "clf = MyLogisticRegression(learning_rate=0.0675, max_iter=1600, lamb=0.001)\n",
    "\n",
    "clf.fit(x_train_spl, y_train_spl, x_test_spl, y_test_spl)"
   ]
  },
  {
   "cell_type": "markdown",
   "metadata": {},
   "source": [
    "# Оцениваем результат"
   ]
  },
  {
   "cell_type": "markdown",
   "metadata": {},
   "source": [
    "Обязательно отрисуйте 2 графика:\n",
    "- loss на обучающем и тестовом множесте\n",
    "- % правильно классифицированных примеров на тестовом и обучающем множестве"
   ]
  },
  {
   "cell_type": "code",
   "execution_count": 13,
   "metadata": {},
   "outputs": [
    {
     "data": {
      "image/png": "[encoded data removed]",
      "text/plain": [
       "<matplotlib.figure.Figure at 0x27a8995f6a0>"
      ]
     },
     "metadata": {},
     "output_type": "display_data"
    },
    {
     "data": {
      "image/png": "[encoded data removed]",
      "text/plain": [
       "<matplotlib.figure.Figure at 0x27a8b568710>"
      ]
     },
     "metadata": {},
     "output_type": "display_data"
    }
   ],
   "source": [
    "clf.draw()"
   ]
  },
  {
   "cell_type": "markdown",
   "metadata": {},
   "source": [
    "# Сохраняем данные для кагла"
   ]
  },
  {
   "cell_type": "markdown",
   "metadata": {},
   "source": [
    "https://www.kaggle.com/t/513ea517806348848dc78c4f41d44528"
   ]
  },
  {
   "cell_type": "markdown",
   "metadata": {},
   "source": [
    "Результат записывается в простой текстовый файл. Первая строчка \"Id,Prediction\", далее для каждого примера из валидационного множества записывается его Id (порядковый номер, с нуля) и вероятность принадлежности к классу '6', например '123,0.12'.\n",
    "\n",
    "Важно соблюдать тот же порядок следования элементов, что и в наборе данных. Нумерация id с 0"
   ]
  },
  {
   "cell_type": "code",
   "execution_count": 14,
   "metadata": {
    "collapsed": true
   },
   "outputs": [],
   "source": [
    "# Разделим изначальные тренировочные данные на данные для обучения и валидации.\n",
    "# Обучим данные на большем количестве картинок))))\n",
    "\n",
    "x_train_spl_kaggle, x_test_spl_kaggle, y_train_spl_kaggle, y_test_spl_kaggle = \\\n",
    "train_test_split(X_train, y_train, random_state=11, test_size = 0.001)"
   ]
  },
  {
   "cell_type": "code",
   "execution_count": 15,
   "metadata": {},
   "outputs": [],
   "source": [
    "clf_kaggle = MyLogisticRegression(learning_rate=0.0675, max_iter=1600, lamb=0.001)\n",
    "\n",
    "clf_kaggle.fit(x_train_spl_kaggle, y_train_spl_kaggle, x_test_spl_kaggle, y_test_spl_kaggle)"
   ]
  },
  {
   "cell_type": "code",
   "execution_count": 16,
   "metadata": {},
   "outputs": [],
   "source": [
    "Y_pred = clf_kaggle.predict_proba(X_test_no_lables)\n",
    "\n",
    "with open('solution.csv', 'w') as fout:\n",
    "    print(\"Id,Prediction\", file=fout)\n",
    "    for i in range(len(X_test_no_lables)):\n",
    "        print(i, Y_pred[i], sep=',', file=fout)"
   ]
  },
  {
   "cell_type": "code",
   "execution_count": 17,
   "metadata": {},
   "outputs": [
    {
     "data": {
      "text/html": [
       "<div>\n",
       "<style>\n",
       "    .dataframe thead tr:only-child th {\n",
       "        text-align: right;\n",
       "    }\n",
       "\n",
       "    .dataframe thead th {\n",
       "        text-align: left;\n",
       "    }\n",
       "\n",
       "    .dataframe tbody tr th {\n",
       "        vertical-align: top;\n",
       "    }\n",
       "</style>\n",
       "<table border=\"1\" class=\"dataframe\">\n",
       "  <thead>\n",
       "    <tr style=\"text-align: right;\">\n",
       "      <th></th>\n",
       "      <th>Id</th>\n",
       "      <th>Prediction</th>\n",
       "    </tr>\n",
       "  </thead>\n",
       "  <tbody>\n",
       "    <tr>\n",
       "      <th>0</th>\n",
       "      <td>0</td>\n",
       "      <td>9.989882e-01</td>\n",
       "    </tr>\n",
       "    <tr>\n",
       "      <th>1</th>\n",
       "      <td>1</td>\n",
       "      <td>9.997545e-01</td>\n",
       "    </tr>\n",
       "    <tr>\n",
       "      <th>2</th>\n",
       "      <td>2</td>\n",
       "      <td>9.996064e-01</td>\n",
       "    </tr>\n",
       "    <tr>\n",
       "      <th>3</th>\n",
       "      <td>3</td>\n",
       "      <td>8.874373e-07</td>\n",
       "    </tr>\n",
       "    <tr>\n",
       "      <th>4</th>\n",
       "      <td>4</td>\n",
       "      <td>1.349449e-01</td>\n",
       "    </tr>\n",
       "  </tbody>\n",
       "</table>\n",
       "</div>"
      ],
      "text/plain": [
       "   Id    Prediction\n",
       "0   0  9.989882e-01\n",
       "1   1  9.997545e-01\n",
       "2   2  9.996064e-01\n",
       "3   3  8.874373e-07\n",
       "4   4  1.349449e-01"
      ]
     },
     "execution_count": 17,
     "metadata": {},
     "output_type": "execute_result"
    }
   ],
   "source": [
    "# Просмотрим то, что записали.\n",
    "\n",
    "df2 = pd.read_csv('solution.csv')\n",
    "df2.head()"
   ]
  },
  {
   "cell_type": "markdown",
   "metadata": {},
   "source": [
    "# Сдача"
   ]
  },
  {
   "cell_type": "markdown",
   "metadata": {},
   "source": [
    "1. Регистрируетесь на конкурс https://www.kaggle.com/t/34e77301ef914c5792e4f4306144a6b3 \n",
    "1. Преодолеваете \"Pass level\" baseline\n",
    "1. После того, как вы преодолеете baseline, присылайте ноутбук с решение по адресу **voropaev@corp.mail.ru**\n",
    "\n",
    "# Внимание\n",
    "- Тему письма писать в формате \"[МФТИ][1] Фамилия\"\n",
    "- Внутри писма прикрепляете файл ноутбука с именем <ваша фамилия>.ipynb"
   ]
  }
 ],
 "metadata": {
  "kernelspec": {
   "display_name": "Python 3",
   "language": "python",
   "name": "python3"
  },
  "language_info": {
   "codemirror_mode": {
    "name": "ipython",
    "version": 3
   },
   "file_extension": ".py",
   "mimetype": "text/x-python",
   "name": "python",
   "nbconvert_exporter": "python",
   "pygments_lexer": "ipython3",
   "version": "3.6.1"
  }
 },
 "nbformat": 4,
 "nbformat_minor": 2
}
