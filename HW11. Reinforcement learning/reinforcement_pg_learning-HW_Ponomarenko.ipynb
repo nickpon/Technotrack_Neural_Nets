{
 "cells": [
  {
   "cell_type": "code",
   "execution_count": 1,
   "metadata": {},
   "outputs": [],
   "source": [
    "%matplotlib inline"
   ]
  },
  {
   "cell_type": "code",
   "execution_count": 2,
   "metadata": {},
   "outputs": [
    {
     "name": "stdout",
     "output_type": "stream",
     "text": [
      "Is python : True\n",
      "Device : cpu\n"
     ]
    }
   ],
   "source": [
    "import gym\n",
    "import math\n",
    "import random\n",
    "import numpy as np\n",
    "import matplotlib\n",
    "import matplotlib.pyplot as plt\n",
    "from collections import namedtuple\n",
    "from itertools import count\n",
    "from copy import deepcopy\n",
    "from PIL import Image\n",
    "\n",
    "import torch\n",
    "import torch.nn as nn\n",
    "import torch.optim as optim\n",
    "import torch.nn.functional as F\n",
    "import torchvision.transforms as T\n",
    "\n",
    "from torch.nn.init import kaiming_normal\n",
    "from torch.distributions.categorical import Categorical\n",
    "\n",
    "import tqdm\n",
    "\n",
    "env = gym.make('CartPole-v0').unwrapped\n",
    "\n",
    "# set up matplotlib\n",
    "is_ipython = 'inline' in matplotlib.get_backend()\n",
    "if is_ipython:\n",
    "    from IPython import display\n",
    "    \n",
    "print(\"Is python : {}\".format(is_ipython))\n",
    "\n",
    "#plt.ion()\n",
    "\n",
    "# if gpu is to be used\n",
    "device = torch.device(\"cuda\" if torch.cuda.is_available() else \"cpu\")\n",
    "print(\"Device : {}\".format(device))"
   ]
  },
  {
   "cell_type": "markdown",
   "metadata": {},
   "source": [
    "Можно использовать лишь 4 парамтетра: плолжение тележки, её скорость, угол наклона шеста и скорость шества в вершней точке. Данные параметры полностью определяют систему, делая при этом задачу куда более быстрой по вычислениям (Ваш вариант у меня не работал на компьютере из-за нехватки мощности, а на кластере программы падала с ошибкой, которую никак не удалось решить)."
   ]
  },
  {
   "cell_type": "code",
   "execution_count": 3,
   "metadata": {},
   "outputs": [],
   "source": [
    "class PGNet(nn.Module):\n",
    "    # плейсхолдер для определения модели\n",
    "    # не забудьте, что выход policy-gradients модели - вероятности действий\n",
    "    \n",
    "    def __init__(self):\n",
    "        super(PGNet, self).__init__()\n",
    "        \n",
    "        self.l1 = nn.Linear(env.observation_space.shape[0], 128, bias=False)\n",
    "        self.l2 = nn.Linear(128, env.action_space.n, bias=False)\n",
    "        \n",
    "        self.policy_history = torch.Tensor()\n",
    "        self.reward_episode = []\n",
    "        self.reward_history = []\n",
    "        \n",
    "    def forward(self, x):    \n",
    "        model = torch.nn.Sequential(\n",
    "            self.l1,\n",
    "            nn.Dropout(p=0.6),\n",
    "            nn.ReLU(),\n",
    "            self.l2,\n",
    "            nn.Softmax(dim=-1)\n",
    "        )\n",
    "        return model(x)"
   ]
  },
  {
   "cell_type": "markdown",
   "metadata": {},
   "source": [
    "### Вход\n",
    "\n",
    "\n",
    "Вытаскиваем картинку из среды. Используем бонусы из ``torchvision``\n",
    "\n"
   ]
  },
  {
   "cell_type": "code",
   "execution_count": 4,
   "metadata": {
    "scrolled": true
   },
   "outputs": [
    {
     "data": {
      "image/png": "[encoded data removed]",
      "text/plain": [
       "<Figure size 432x288 with 1 Axes>"
      ]
     },
     "metadata": {
      "needs_background": "light"
     },
     "output_type": "display_data"
    }
   ],
   "source": [
    "resize = T.Compose([T.ToPILImage(),\n",
    "                    T.Resize(40, interpolation=Image.CUBIC),\n",
    "                    T.ToTensor()])\n",
    "\n",
    "# This is based on the code from gym.\n",
    "screen_width = 600\n",
    "\n",
    "\n",
    "def get_cart_location():\n",
    "    world_width = env.x_threshold * 2\n",
    "    scale = screen_width / world_width\n",
    "    return int(env.state[0] * scale + screen_width / 2.0)  # MIDDLE OF CART\n",
    "\n",
    "\n",
    "def get_screen():\n",
    "    screen = env.render(mode='rgb_array').transpose(\n",
    "        (2, 0, 1))  # транспонирование в порядок торча (СHW)\n",
    "    # Убираем верх и низ экрана\n",
    "    screen = screen[:, 160:320]\n",
    "    view_width = 320\n",
    "    cart_location = get_cart_location()\n",
    "    if cart_location < view_width // 2:\n",
    "        slice_range = slice(view_width)\n",
    "    elif cart_location > (screen_width - view_width // 2):\n",
    "        slice_range = slice(-view_width, None)\n",
    "    else:\n",
    "        slice_range = slice(cart_location - view_width // 2,\n",
    "                            cart_location + view_width // 2)\n",
    "    # Убираем края экрана, чтобы получить картинку с центрированной тележкой\n",
    "    screen = screen[:, :, slice_range]\n",
    "    # Конвертируем в торч тензор\n",
    "    screen = np.ascontiguousarray(screen, dtype=np.float32) / 255\n",
    "    screen = torch.from_numpy(screen)\n",
    "    # Ресайзим и добавляем батч размерность\n",
    "    return resize(screen).unsqueeze(0).to(device)\n",
    "\n",
    "env.reset()\n",
    "plt.figure()\n",
    "plt.imshow(get_screen().cpu().squeeze(0).permute(1, 2, 0).numpy(),\n",
    "           interpolation='none')\n",
    "plt.title('Example extracted screen')\n",
    "plt.show()"
   ]
  },
  {
   "cell_type": "code",
   "execution_count": 5,
   "metadata": {},
   "outputs": [],
   "source": [
    "GAMMA = 0.999\n",
    "\n",
    "policy_net = PGNet().to(device)\n",
    "\n",
    "# можно попробовать\n",
    "optimizer = optim.SGD(policy_net.parameters(), lr=0.001, momentum=0.9, nesterov=True)\n",
    "\n",
    "episode_durations = []\n",
    "\n",
    "def plot_durations():\n",
    "    plt.figure(2)\n",
    "    plt.clf()\n",
    "    durations_t = torch.tensor(policy_net.reward_history, dtype=torch.float)\n",
    "    plt.title('Training...')\n",
    "    plt.xlabel('Episode')\n",
    "    plt.ylabel('Duration')\n",
    "    # Only for better understanding of the output results.\n",
    "    plt.ylim((0, 400))\n",
    "    plt.plot(durations_t.numpy())\n",
    "    # Take 100 episode averages and plot them too\n",
    "    if len(durations_t) >= 100:\n",
    "        means = durations_t.unfold(0, 100, 1).mean(1).view(-1)\n",
    "        means = torch.cat((torch.zeros(99), means))\n",
    "        plt.plot(means.numpy())\n",
    "        \n",
    "\n",
    "# метод для десконтирования reward'ов\n",
    "def discount_rewards():\n",
    "    R = 0\n",
    "    rewards = []\n",
    "    \n",
    "    for r in policy_net.reward_episode[::-1]:\n",
    "        assert(r == 1.0)\n",
    "        R = r + GAMMA * R\n",
    "        rewards.insert(0,R)\n",
    "        \n",
    "    rewards = torch.FloatTensor(rewards)\n",
    "    rewards = (rewards - rewards.mean()) / (rewards.std() + float(np.finfo(np.float32).eps))\n",
    "    \n",
    "    loss = (torch.sum(torch.mul(policy_net.policy_history, rewards).mul(-1), -1))\n",
    "    \n",
    "    optimizer.zero_grad()\n",
    "    loss.backward()\n",
    "    optimizer.step()\n",
    "    \n",
    "    policy_net.reward_history.append(np.sum(policy_net.reward_episode))\n",
    "    policy_net.policy_history = torch.Tensor()\n",
    "    policy_net.reward_episode= []"
   ]
  },
  {
   "cell_type": "code",
   "execution_count": 6,
   "metadata": {},
   "outputs": [],
   "source": [
    "def select_action(state):\n",
    "    state = torch.from_numpy(state).type(torch.FloatTensor)\n",
    "    state = policy_net(state)\n",
    "    c = Categorical(state)\n",
    "    action = c.sample()\n",
    "    \n",
    "    if len(policy_net.policy_history) > 0:\n",
    "        policy_net.policy_history = torch.cat([policy_net.policy_history, c.log_prob(action).reshape(1)])\n",
    "    else:\n",
    "        policy_net.policy_history = c.log_prob(action).reshape(1)\n",
    "    return action"
   ]
  },
  {
   "cell_type": "markdown",
   "metadata": {},
   "source": [
    "### Тренировка модели\n"
   ]
  },
  {
   "cell_type": "code",
   "execution_count": 7,
   "metadata": {
    "scrolled": false
   },
   "outputs": [
    {
     "name": "stderr",
     "output_type": "stream",
     "text": [
      " 10%|███████▉                                                                        | 99/1000 [00:21<02:37,  5.70it/s]"
     ]
    },
    {
     "name": "stdout",
     "output_type": "stream",
     "text": [
      "Mean 100 ep durations : 53.666666666666664\n"
     ]
    },
    {
     "name": "stderr",
     "output_type": "stream",
     "text": [
      " 20%|███████████████▋                                                               | 199/1000 [00:48<03:10,  4.21it/s]"
     ]
    },
    {
     "name": "stdout",
     "output_type": "stream",
     "text": [
      "Mean 100 ep durations : 133.22\n"
     ]
    },
    {
     "name": "stderr",
     "output_type": "stream",
     "text": [
      " 27%|█████████████████████▏                                                         | 268/1000 [01:14<07:16,  1.68it/s]"
     ]
    },
    {
     "name": "stdout",
     "output_type": "stream",
     "text": [
      "Complete\n"
     ]
    },
    {
     "data": {
      "image/png": "[encoded data removed]",
      "text/plain": [
       "<Figure size 432x288 with 1 Axes>"
      ]
     },
     "metadata": {
      "needs_background": "light"
     },
     "output_type": "display_data"
    }
   ],
   "source": [
    "num_episodes = 1000 # суммарное кол-во эпизодов\n",
    "ep_per_epoch = 100 # кол-во эпизодов м/у обучением\n",
    "\n",
    "log_probas = []\n",
    "rewards = []\n",
    "\n",
    "policy_net.train()\n",
    "last_100_ep_duration = 0\n",
    "\n",
    "for i_episode in tqdm.tqdm(range(num_episodes)):\n",
    "    \n",
    "    # Ура! Выйграли этот энвайронмент!\n",
    "    if last_100_ep_duration >= 195:\n",
    "        break\n",
    "    \n",
    "    # Инициализация среды\n",
    "    state = env.reset()\n",
    "    \n",
    "    for t in count():\n",
    "    \n",
    "        action = select_action(state)\n",
    "        state, reward, done, _ = env.step(action.unsqueeze(dim=0).numpy()[0])\n",
    "        \n",
    "        policy_net.reward_episode.append(reward)\n",
    "        \n",
    "        if done:\n",
    "            last_100_ep_duration = (0 if i_episode == 0\n",
    "                else np.mean(policy_net.reward_history[(-100 if i_episode else -i_episode):]))\n",
    "            if (i_episode + 1) % ep_per_epoch == 0:\n",
    "                print(\"Mean 100 ep durations : {}\".format(last_100_ep_duration))\n",
    "            plot_durations()\n",
    "            break\n",
    "    discount_rewards()\n",
    "            \n",
    "print('Complete')\n",
    "env.render()\n",
    "env.close()\n",
    "#plt.ioff()\n",
    "plt.show()"
   ]
  },
  {
   "cell_type": "code",
   "execution_count": 8,
   "metadata": {},
   "outputs": [
    {
     "data": {
      "image/png": "[encoded data removed]",
      "text/plain": [
       "<Figure size 432x288 with 1 Axes>"
      ]
     },
     "metadata": {},
     "output_type": "display_data"
    },
    {
     "name": "stdout",
     "output_type": "stream",
     "text": [
      "Total reward = 415.0\n"
     ]
    },
    {
     "data": {
      "image/png": "[encoded data removed]",
      "text/plain": [
       "<Figure size 432x288 with 1 Axes>"
      ]
     },
     "metadata": {
      "needs_background": "light"
     },
     "output_type": "display_data"
    }
   ],
   "source": [
    "# ЗДЕСЬ НЕ НАДО НИЧЕГО МЕНЯТЬ!\n",
    "\n",
    "def show_state(env, step=0, info=\"\"):\n",
    "    plt.figure(3)\n",
    "    plt.clf()\n",
    "    plt.imshow(env.render(mode='rgb_array'))\n",
    "    plt.title(\"%s | Step: %d %s\" % (env.spec.id, step, info))\n",
    "    plt.axis('off')\n",
    "\n",
    "    display.clear_output(wait=True)\n",
    "    display.display(plt.gcf())\n",
    "\n",
    "last_screen = get_screen()\n",
    "current_screen = get_screen()\n",
    "total_reward = 0\n",
    "# Рестартуем среду для проведения тестирования.\n",
    "state = env.reset()\n",
    "for i in range(1000):\n",
    "    # Выбрать и выполнить новое действие.\n",
    "    action = select_action(state)\n",
    "    # Опять работает со state, полученным от данной функции.\n",
    "    state, reward, done, _ = env.step(action.unsqueeze(dim=0).numpy()[0])\n",
    "    total_reward += reward\n",
    "    # Получаем новое состояние\n",
    "    last_screen = current_screen\n",
    "    current_screen = get_screen()\n",
    "    show_state(env, i)\n",
    "    if done:\n",
    "        break\n",
    "print(f\"Total reward = {total_reward}\")"
   ]
  }
 ],
 "metadata": {
  "anaconda-cloud": {},
  "kernelspec": {
   "display_name": "technokek",
   "language": "python",
   "name": "technokek"
  },
  "language_info": {
   "codemirror_mode": {
    "name": "ipython",
    "version": 3
   },
   "file_extension": ".py",
   "mimetype": "text/x-python",
   "name": "python",
   "nbconvert_exporter": "python",
   "pygments_lexer": "ipython3",
   "version": "3.6.8"
  }
 },
 "nbformat": 4,
 "nbformat_minor": 1
}
