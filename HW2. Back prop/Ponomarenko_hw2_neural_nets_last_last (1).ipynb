{
 "cells": [
  {
   "cell_type": "code",
   "execution_count": 1,
   "metadata": {
    "collapsed": true
   },
   "outputs": [],
   "source": [
    "import numpy as np\n",
    "import matplotlib.pyplot as plt\n",
    "import pickle\n",
    "%matplotlib inline"
   ]
  },
  {
   "cell_type": "code",
   "execution_count": 2,
   "metadata": {
    "collapsed": true
   },
   "outputs": [],
   "source": [
    "# класс one-hot encoder'а для MNIST\n",
    "class OneHotEncoder:\n",
    "    def __init__(self):\n",
    "        self.transform_mapping = np.zeros((10,10))\n",
    "        for i in range(self.transform_mapping.shape[0]):\n",
    "            self.transform_mapping[i][i] = 1.0\n",
    "    def transform(self, y):\n",
    "        return self.transform_mapping[int(y)]"
   ]
  },
  {
   "cell_type": "code",
   "execution_count": 3,
   "metadata": {
    "collapsed": true
   },
   "outputs": [],
   "source": [
    "def make_submission(X_test, net, fname=\"my_submission.csv\"):\n",
    "    with open(fname,'w') as fout:\n",
    "        fout.write('Id,Category')\n",
    "        for i in range(X_test.shape[0]):\n",
    "            y_h = net.forward(X_test[i])\n",
    "            y = np.argmax(y_h)\n",
    "            fout.write(\"\\n{},{}\".format(i, int(y)))"
   ]
  },
  {
   "cell_type": "code",
   "execution_count": 4,
   "metadata": {
    "collapsed": true
   },
   "outputs": [],
   "source": [
    "def compute_acc(X_test, Y_test, net):\n",
    "    acc = 0.0\n",
    "    for i in range(X_test.shape[0]):\n",
    "        y_h = net.forward(X_test[i])\n",
    "        y = np.argmax(y_h)\n",
    "        if(y == np.argmax(Y_test[i])):\n",
    "            acc += 1.0\n",
    "    return acc / Y_test.shape[0]"
   ]
  },
  {
   "cell_type": "code",
   "execution_count": 5,
   "metadata": {
    "collapsed": true
   },
   "outputs": [],
   "source": [
    "train_data = None\n",
    "test_data = None\n",
    "encoder = OneHotEncoder()\n",
    "with open('data_train.pickle','rb') as fin:\n",
    "    train_data = pickle.load(fin)\n",
    "with open('data_test_no_labels.pickle','rb') as fin:\n",
    "    test_data = pickle.load(fin)\n",
    "    \n",
    "X_train = train_data['data']\n",
    "Y_train = train_data['target']\n",
    "Y_train_oh = np.array(list(map(lambda x : encoder.transform(x), Y_train)))\n",
    "\n",
    "X_test = test_data['data']"
   ]
  },
  {
   "cell_type": "code",
   "execution_count": 6,
   "metadata": {},
   "outputs": [
    {
     "data": {
      "image/png": "[encoded data removed]",
      "text/plain": [
       "<matplotlib.figure.Figure at 0x274290d99b0>"
      ]
     },
     "metadata": {},
     "output_type": "display_data"
    }
   ],
   "source": [
    "n=4\n",
    "for i in range(n*n):\n",
    "    plt.subplot(n,n,i+1)\n",
    "    I = train_data['data'][np.random.randint(0, X_train.shape[0]),:]\n",
    "    I = I.reshape((28, 28))\n",
    "    plt.imshow(I, cmap='gray')"
   ]
  },
  {
   "cell_type": "code",
   "execution_count": 7,
   "metadata": {},
   "outputs": [],
   "source": [
    "# Подготовка датасета, как требуется.\n",
    "from sklearn.preprocessing import StandardScaler\n",
    "scale = StandardScaler()\n",
    "\n",
    "#mean = np.mean(X_train, axis=0)\n",
    "#std = np.std(X_train, axis=0)\n",
    "#X_train_stand = (X_train - mean) / (std+0.0001)\n",
    "\n",
    "#X_train_stand = X_train / 255\n",
    "\n",
    "X_train_stand = scale.fit_transform(X_train.astype(float))\n",
    "\n",
    "\n",
    "#X_test_stand = (X_test - mean) / (std+0.0001)\n",
    "\n",
    "#X_test_stand = X_test / 255\n",
    "\n",
    "X_test_stand = scale.transform(X_test.astype(float))"
   ]
  },
  {
   "cell_type": "code",
   "execution_count": 8,
   "metadata": {
    "collapsed": true
   },
   "outputs": [],
   "source": [
    "# Определение слоев сети\n",
    "\n",
    "class Dense:\n",
    "    def __init__(self, in_size, out_size, rlambda = 0.0):\n",
    "        self.W = np.random.normal(scale=1, size=(out_size, in_size)) * np.sqrt(2 / in_size)\n",
    "        self.b = np.zeros(out_size)\n",
    "        self.rlambda = rlambda\n",
    "        \n",
    "    def forward(self, x):\n",
    "        self.x = x # запоминаем для обратного прохода\n",
    "        return np.dot(self.W, x) + self.b\n",
    "    \n",
    "    def get_reg_loss(self):\n",
    "        return 0.5 * self.rlambda * (np.linalg.norm(self.W, ord='fro') ** 2)\n",
    "    \n",
    "    def backward(self, dz, lr=0.001):\n",
    "        # вычисляем градиенты по параметрам (запоминаем их для отладки)\n",
    "        self.dW = np.outer(dz, self.x)\n",
    "        self.db = dz\n",
    "        # вычисляем производную по входу\n",
    "        self.dx = np.matmul(dz, self.W) \n",
    "        # рассчитываем градиенты от регуляризатора\n",
    "        if(self.rlambda != 0):\n",
    "            self.dW += self.rlambda * self.W\n",
    "        # обновляем веса\n",
    "        self.W = self.W - lr * self.dW\n",
    "        self.b = self.b - lr * self.db\n",
    "        # возвращаем dx для продолжения алгоритма\n",
    "        return self.dx\n",
    "    \n",
    "    \n",
    "class ReLU:\n",
    "    \n",
    "    def forward(self, x):\n",
    "        self.x = x\n",
    "        return np.maximum(0, x)\n",
    "    \n",
    "    def backward(self, dz, lr=0.1):\n",
    "        dz[self.x < 0] = 0\n",
    "        return dz\n",
    "    \n",
    "\n",
    "class Softmax:\n",
    "    \n",
    "    def forward(self, x):\n",
    "        self.x = x\n",
    "        exps = np.exp(x - np.max(x))\n",
    "        return exps / exps.sum()\n",
    "    \n",
    "    def backward(self, dz, lr=0.001):\n",
    "        sm  = self.forward(self.x)\n",
    "        return np.matmul(sm * (np.eye(self.x.shape[0]) - sm).T, dz)\n",
    "    \n",
    "    \n",
    "class CrossEntropy:\n",
    "    \n",
    "    def forward(self, y_true, y_hat):\n",
    "        self.y_true = y_true\n",
    "        self.y_hat = y_hat\n",
    "        return -np.sum(y_true * np.log(y_hat))\n",
    "    \n",
    "    def backward(self, dz, lr=0.001):\n",
    "        return dz * -1. * self.y_true / self.y_hat\n",
    "    \n",
    "\n",
    "class Dropout:\n",
    "    def __init__(self, p = 0.5):\n",
    "        self.p = p\n",
    "        self.train = True\n",
    "    \n",
    "    def set_train(self, train = True):\n",
    "        self.train = train\n",
    "    \n",
    "    def forward(self, x):\n",
    "        if not self.train:\n",
    "            self.mask = np.ones(*x.shape)\n",
    "            return x\n",
    "        self.mask = ( np.random.rand(*x.shape) > self.p ) / (1.0 - self.p)\n",
    "        return x * self.mask\n",
    "        \n",
    "    def backward(self, dz, lr=0.001):\n",
    "        return dz * self.mask"
   ]
  },
  {
   "cell_type": "code",
   "execution_count": 9,
   "metadata": {
    "collapsed": true
   },
   "outputs": [],
   "source": [
    "# Опеределение самой сети\n",
    "# Я решил воспользоваться архитектурой, описаной в данной\n",
    "# статье: https://www.kaggle.com/charel/learn-neural-networks-by-example-mnist-digits,\n",
    "# но я добавил ещё два dropout'а.\n",
    "\n",
    "class MnistNet:\n",
    "    \n",
    "    def __init__(self, rlambda=0.0):\n",
    "        self.d = Dense(784, 200, rlambda)\n",
    "        self.m = ReLU()\n",
    "        self.dr = Dropout(p=0.08)\n",
    "        self.d2 = Dense(200, 100, rlambda)\n",
    "        self.m2 = ReLU()\n",
    "        self.d3 = Dense(100, 60, rlambda)\n",
    "        self.m3 = ReLU()\n",
    "        self.dr3 = Dropout(p=0.01)\n",
    "        self.d4 = Dense(60, 30, rlambda)\n",
    "        self.m4 = ReLU()\n",
    "        self.d5 = Dense(30, 10, rlambda)\n",
    "        self.s = Softmax()\n",
    "    \n",
    "    def forward(self, x):\n",
    "        net = self.d.forward(x)\n",
    "        net = self.m.forward(net)\n",
    "        net = self.dr.forward(net)\n",
    "        net = self.d2.forward(net)\n",
    "        net = self.m2.forward(net)\n",
    "        net = self.d3.forward(net)\n",
    "        net = self.m3.forward(net)\n",
    "        net = self.dr3.forward(net)\n",
    "        net = self.d4.forward(net)\n",
    "        net = self.m4.forward(net)\n",
    "        net = self.d5.forward(net)\n",
    "        net = self.s.forward(net)\n",
    "        return net\n",
    "    \n",
    "    def backward(self, dz, lr):\n",
    "        dz = self.s.backward(dz, lr)\n",
    "        dz = self.d5.backward(dz, lr)\n",
    "        dz = self.m4.backward(dz, lr)\n",
    "        dz = self.d4.backward(dz, lr)\n",
    "        dz = self.dr3.backward(dz, lr)\n",
    "        dz = self.m3.backward(dz, lr)\n",
    "        dz = self.d3.backward(dz, lr)\n",
    "        dz = self.m2.backward(dz, lr)\n",
    "        dz = self.d2.backward(dz, lr)\n",
    "        dz = self.dr.backward(dz, lr)\n",
    "        dz = self.m.backward(dz, lr)\n",
    "        dz = self.d.backward(dz, lr)\n",
    "        return dz\n",
    "    \n",
    "    def set_test(self):\n",
    "        self.dr.set_train(False)\n",
    "        self.dr3.set_train(False)\n",
    "        \n",
    "    def set_train(self):\n",
    "        self.dr.set_train(True)\n",
    "        self.dr3.set_train(True)"
   ]
  },
  {
   "cell_type": "code",
   "execution_count": 10,
   "metadata": {
    "collapsed": true
   },
   "outputs": [],
   "source": [
    "# Разобьём X_train на выборку, на которой будем тренироваться и выборку, на которой будем проводить валидацию.\n",
    "\n",
    "from sklearn.model_selection import train_test_split\n",
    "\n",
    "X_train_spl, X_test_spl, Y_train_spl, Y_test_spl = train_test_split(X_train_stand, Y_train_oh, random_state=42,\n",
    "                                                                    test_size=0.2, stratify=Y_train_oh)"
   ]
  },
  {
   "cell_type": "markdown",
   "metadata": {},
   "source": [
    "Отмечу, что я изначально посмотрел на гистограмму распределения классов, оказалось, что класов примерно поровну, поэтому я и не стал использовать $stratify$. Но ОК, исправил."
   ]
  },
  {
   "cell_type": "code",
   "execution_count": 11,
   "metadata": {},
   "outputs": [
    {
     "name": "stdout",
     "output_type": "stream",
     "text": [
      "0 iter loss. Train : 0.5106879984197981 . Test : 0.2502479638008963\n",
      "Accuracy. Train : 0.9392380952380952 . Test : 0.9426666666666667\n"
     ]
    }
   ],
   "source": [
    "# Здесь процедура обучения\n",
    "import tqdm\n",
    "\n",
    "net = MnistNet(0.0001)\n",
    "loss = CrossEntropy()\n",
    "lr = 0.0005\n",
    "L_train = []\n",
    "L_test = []\n",
    "L_accuracy_train = []\n",
    "L_accuracy_test = []\n",
    "#for iter in range(12):\n",
    "for iter in range(1):\n",
    "# for iter in tqdm.tqdm_notebook(range(1)):\n",
    "    L_acc = 0.\n",
    "    net.set_train()\n",
    "    sh = list(range(X_train_spl.shape[0])) # больше рандома богу рандома\n",
    "    np.random.shuffle(sh)\n",
    "    for i in range(X_train_spl.shape[0]):\n",
    "    # for i in tqdm.tqdm_notebook(range(X_train_spl.shape[0])):\n",
    "        x = X_train_spl[sh[i]]\n",
    "        y = Y_train_spl[sh[i]]\n",
    "        y_h = net.forward(x)        \n",
    "        L = loss.forward(y, y_h) + net.d.get_reg_loss() + net.d2.get_reg_loss() + \\\n",
    "        net.d3.get_reg_loss() + net.d4.get_reg_loss() + net.d5.get_reg_loss()\n",
    "        L_acc += L \n",
    "        dz = loss.backward(1, lr)\n",
    "        dz = net.backward(dz, lr)\n",
    "    L_accuracy_train.append(compute_acc(X_train_spl, Y_train_spl, net))\n",
    "    L_acc /= Y_train_spl.shape[0]\n",
    "    L_train.append(L_acc)\n",
    "    L_e_acc = 0.\n",
    "    net.set_test()\n",
    "    for i in range(X_test_spl.shape[0]):\n",
    "        x = X_test_spl[i]\n",
    "        y = Y_test_spl[i]\n",
    "        y_h = net.forward(x)\n",
    "        L = loss.forward(y, y_h) + net.d.get_reg_loss() + net.d2.get_reg_loss() + \\\n",
    "        net.d3.get_reg_loss() + net.d4.get_reg_loss() + net.d5.get_reg_loss()\n",
    "        L_e_acc += L\n",
    "    L_e_acc /= Y_test_spl.shape[0]\n",
    "    L_test.append(L_e_acc)\n",
    "    L_accuracy_test.append(compute_acc(X_test_spl, Y_test_spl, net))\n",
    "    print(\"{} iter loss. Train : {} . Test : {}\".format(iter, L_acc, L_e_acc))\n",
    "    print(\"Accuracy. Train : {} . Test : {}\".format(L_accuracy_train[-1], L_accuracy_test[-1]))"
   ]
  },
  {
   "cell_type": "code",
   "execution_count": 12,
   "metadata": {},
   "outputs": [
    {
     "data": {
      "image/png": "[encoded data removed]",
      "text/plain": [
       "<matplotlib.figure.Figure at 0x2742c33e7b8>"
      ]
     },
     "metadata": {},
     "output_type": "display_data"
    },
    {
     "data": {
      "image/png": "[encoded data removed]",
      "text/plain": [
       "<matplotlib.figure.Figure at 0x2742e712080>"
      ]
     },
     "metadata": {},
     "output_type": "display_data"
    }
   ],
   "source": [
    "# Здесь необходимо отрисовать графики CrossEntropyLoss для обучающей и валидационной выборок\n",
    "plt.title(\"CrossEntropy.\")\n",
    "plt.plot(L_train, label=\"train\")\n",
    "plt.plot(L_test, label=\"test\")\n",
    "plt.legend()\n",
    "plt.show()\n",
    "\n",
    "plt.title(\"Accuracy.\")\n",
    "plt.plot(L_accuracy_train, label=\"train\")\n",
    "plt.plot(L_accuracy_test, label=\"test\")\n",
    "plt.legend()\n",
    "plt.show()"
   ]
  },
  {
   "cell_type": "markdown",
   "metadata": {},
   "source": [
    "Обучение я останавливал после просмотра графиков и полученных значений кросс-энтропии."
   ]
  },
  {
   "cell_type": "code",
   "execution_count": 13,
   "metadata": {
    "collapsed": true
   },
   "outputs": [],
   "source": [
    "# формируем сабмишшен и заливаем его на kaggle\n",
    "#make_submission(X_test_stand, net)"
   ]
  }
 ],
 "metadata": {
  "kernelspec": {
   "display_name": "Python 3",
   "language": "python",
   "name": "python3"
  },
  "language_info": {
   "codemirror_mode": {
    "name": "ipython",
    "version": 3
   },
   "file_extension": ".py",
   "mimetype": "text/x-python",
   "name": "python",
   "nbconvert_exporter": "python",
   "pygments_lexer": "ipython3",
   "version": "3.6.1"
  }
 },
 "nbformat": 4,
 "nbformat_minor": 2
}
