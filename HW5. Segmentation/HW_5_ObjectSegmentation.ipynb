{
 "cells": [
  {
   "cell_type": "markdown",
   "metadata": {
    "colab_type": "text",
    "id": "KX8A7NiOgW9K"
   },
   "source": [
    "# ДЗ №5 Сегментация\n",
    "Реализация сети для сегметации объектов.\n",
    "\n",
    "__Задача__ сделать работоспособную сеть для сегментирования изображений авто на основе предложенного шаблона\n",
    "\n",
    "\n",
    "![Segmentation](../img/Segment04.png)\n",
    "\n",
    "### Что делаем\n",
    "Реализуем сверточную сеть для семантической сегментации, downsample->upsample -> Классификация каждого пикселя выходного изображения: 0 - не авто, 1 - авто. Выход картинка с x каналами, для классификации.\n",
    "1. В файле model.py   - имплементировать модель вместо заглушки\n",
    "2. В файле train.py - поставить правильный loss\n",
    "\n",
    "### Данные\n",
    "[Carvana](https://cloud.mail.ru/public/3tdq/AvtaHkDAb)\n",
    "\n",
    "### Зависимости\n",
    " - tensorflow  - поддержка tensorboard\n",
    " - tensorboardx - тензор боард для pytorch\n",
    " - tqdm         - пакет для отрисовки прогресс баров\n",
    "\n",
    "### Запуск пакета\n",
    "_ По умолчанию все данные лежат в папке ./data/. Если вы положили их в другую папку, то поправте в скрипте train.py пути _\n",
    "<br/>\n",
    "Запускаем обучение сети\n",
    "python train.py\n",
    "\n",
    "Результаты обучение можно наблюдать в tensorboard\n",
    "\n",
    "Запуск tensorboard --log ./od_log"
   ]
  },
  {
   "cell_type": "markdown",
   "metadata": {
    "colab_type": "text",
    "id": "Qpv5nHbEgW9M"
   },
   "source": [
    "## Результаты\n",
    "1. Код model.py, train.py\n",
    "2. Модель state_dicts()"
   ]
  },
  {
   "cell_type": "markdown",
   "metadata": {
    "colab_type": "text",
    "id": "p6taYiwygW9N"
   },
   "source": [
    "### Тут нужно сделать загрузку состояния вашей модели, код модели в ноутбук тащить не нужно, достаточно сделать import model\n"
   ]
  },
  {
   "cell_type": "code",
   "execution_count": 0,
   "metadata": {
    "colab": {},
    "colab_type": "code",
    "id": "gW5-kUHsJdTA"
   },
   "outputs": [],
   "source": [
    "# TODO\n",
    "# import model ....\n",
    "# Загружаем модель"
   ]
  },
  {
   "cell_type": "code",
   "execution_count": 2,
   "metadata": {
    "colab": {
     "base_uri": "https://localhost:8080/",
     "height": 121
    },
    "colab_type": "code",
    "id": "NhF3kp5AgW9O",
    "outputId": "c52cf257-dee0-4f05-b218-d6c5b699845e"
   },
   "outputs": [
    {
     "name": "stdout",
     "output_type": "stream",
     "text": [
      "1.0.1.post2\n",
      "True\n",
      "1 Tesla T4\n",
      "0\n",
      "<torch.cuda.device object at 0x7f7c03756160>\n",
      "CudaVersion :  10.0.130\n"
     ]
    }
   ],
   "source": [
    "import torch.nn.functional as F\n",
    "from torch import nn\n",
    "import torch\n",
    "from torch.autograd import Variable\n",
    "from torchvision.transforms import ToPILImage\n",
    "import numpy as np\n",
    "\n",
    "import matplotlib.pyplot as plt\n",
    "from PIL import Image\n",
    "%matplotlib inline\n",
    "\n",
    "from tqdm import *\n",
    "\n",
    "print(torch.__version__)\n",
    "print(torch.cuda.is_available())\n",
    "\n",
    "print(torch.cuda.device_count(), torch.cuda.get_device_name(0))\n",
    "\n",
    "print(torch.cuda.current_device())\n",
    "print(torch.cuda.device(0))\n",
    "print(\"CudaVersion : \",torch.version.cuda)\n",
    "\n",
    "torch.cuda.empty_cache()"
   ]
  },
  {
   "cell_type": "code",
   "execution_count": 3,
   "metadata": {
    "colab": {
     "base_uri": "https://localhost:8080/",
     "height": 35
    },
    "colab_type": "code",
    "id": "LK9pOqGx4lS1",
    "outputId": "5171d5f2-a6c8-49af-93e8-3444a7305127"
   },
   "outputs": [
    {
     "name": "stdout",
     "output_type": "stream",
     "text": [
      "Drive already mounted at /content/gdrive; to attempt to forcibly remount, call drive.mount(\"/content/gdrive\", force_remount=True).\n"
     ]
    }
   ],
   "source": [
    "# Подключаем файлы с гугл-диска, так как работа сделана в колабе.\n",
    "\n",
    "from google.colab import drive\n",
    "drive.mount('/content/gdrive')"
   ]
  },
  {
   "cell_type": "code",
   "execution_count": 4,
   "metadata": {
    "colab": {
     "base_uri": "https://localhost:8080/",
     "height": 104
    },
    "colab_type": "code",
    "id": "eNXpxCC69msU",
    "outputId": "2c497a26-3eff-4b7d-89a0-48b79347c8cc"
   },
   "outputs": [
    {
     "name": "stdout",
     "output_type": "stream",
     "text": [
      "Requirement already satisfied: tensorboardX in /usr/local/lib/python3.6/dist-packages (1.6)\n",
      "Requirement already satisfied: numpy in /usr/local/lib/python3.6/dist-packages (from tensorboardX) (1.16.2)\n",
      "Requirement already satisfied: protobuf>=3.2.0 in /usr/local/lib/python3.6/dist-packages (from tensorboardX) (3.7.1)\n",
      "Requirement already satisfied: six in /usr/local/lib/python3.6/dist-packages (from tensorboardX) (1.11.0)\n",
      "Requirement already satisfied: setuptools in /usr/local/lib/python3.6/dist-packages (from protobuf>=3.2.0->tensorboardX) (40.9.0)\n"
     ]
    }
   ],
   "source": [
    "# Почему-то при реконнекте коллаба это нужно указывать каждый раз.\n",
    "\n",
    "!pip install tensorboardX"
   ]
  },
  {
   "cell_type": "code",
   "execution_count": 0,
   "metadata": {
    "colab": {},
    "colab_type": "code",
    "id": "a7h7WFhUJhzp"
   },
   "outputs": [],
   "source": [
    "# Импортим модельку.\n",
    "\n",
    "import sys\n",
    "sys.path.append('gdrive/My Drive/New_hw_5_NN_test/')\n",
    "from model_3 import UNet\n",
    "\n",
    "net = UNet(3, 1)\n",
    "\n",
    "# Загружаем состояние модели.\n",
    "\n",
    "net.load_state_dict(torch.load('/content/gdrive/My Drive/damn_segm_model_3'))"
   ]
  },
  {
   "cell_type": "code",
   "execution_count": 0,
   "metadata": {
    "colab": {},
    "colab_type": "code",
    "id": "jS8POJvtATyB"
   },
   "outputs": [],
   "source": [
    "# Импортим функцию для тренировки. Да, именно функцию, так как куда удобнее\n",
    "# менять параметры запуска просто перезапуская cell, а не меняя исходный код.\n",
    "\n",
    "import sys\n",
    "sys.path.append('gdrive/My Drive/New_hw_5_NN_test/')\n",
    "from train_3 import train_net"
   ]
  },
  {
   "cell_type": "code",
   "execution_count": 0,
   "metadata": {
    "colab": {},
    "colab_type": "code",
    "id": "9GKUvzlnAi37"
   },
   "outputs": [],
   "source": [
    "# Если нужно, тренеруем сетку.\n",
    "\n",
    "# train_net(net, my_net_lr= 0.00008, useCuda=True, n_epoch=35,\n",
    "#           batch_sz=10, load_state_dic=True)"
   ]
  },
  {
   "cell_type": "code",
   "execution_count": 8,
   "metadata": {
    "colab": {
     "base_uri": "https://localhost:8080/",
     "height": 52
    },
    "colab_type": "code",
    "id": "aF7HJDbJeFkC",
    "outputId": "e190e43f-203c-4565-d6d4-bbb2727046dd"
   },
   "outputs": [
    {
     "name": "stderr",
     "output_type": "stream",
     "text": [
      "100%|██████████| 508/508 [00:48<00:00, 11.00it/s]"
     ]
    },
    {
     "name": "stdout",
     "output_type": "stream",
     "text": [
      "Test loss 0.6124447980734307\n"
     ]
    },
    {
     "name": "stderr",
     "output_type": "stream",
     "text": [
      "\n"
     ]
    }
   ],
   "source": [
    "## Реализуем тест модели на тестовом сете\n",
    "## for ....\n",
    "## замеряем среднюю метрику по тестовому сету, пример кода есть в train.py\n",
    "\n",
    "import sys\n",
    "\n",
    "sys.path.append('gdrive/My Drive/New_hw_5_NN_test/')\n",
    "import carvana_dataset as cv\n",
    "\n",
    "PATH = 'gdrive/My Drive/Technotrack_hw_5/data'\n",
    "test = PATH + '/test/'\n",
    "test_masks = PATH + '/test_masks'\n",
    "\n",
    "useCuda = True\n",
    "criterion = torch.nn.BCEWithLogitsLoss()\n",
    "\n",
    "dl_test = cv.CarvanaDataset(test, test_masks)\n",
    "\n",
    "net.train(False)\n",
    "test_loss = 0\n",
    "\n",
    "if useCuda == True:\n",
    "    net = net.cuda()\n",
    "    criterion = criterion.cuda()\n",
    "\n",
    "for iter, (i, t) in enumerate(tqdm(dl_test)):\n",
    "    i = i.unsqueeze(0)\n",
    "    t = t.unsqueeze(0)\n",
    "    with torch.no_grad():\n",
    "        i = Variable(i)\n",
    "        t = Variable(t)\n",
    "    if useCuda:\n",
    "        i = i.cuda()\n",
    "        t = t.cuda()\n",
    "    o = net(i)\n",
    "    loss = criterion(o, t)\n",
    "    test_loss += loss.item()\n",
    "    \n",
    "test_loss = test_loss / float(len(dl_test))\n",
    "print(\"Test loss\", test_loss)"
   ]
  },
  {
   "cell_type": "markdown",
   "metadata": {
    "colab_type": "text",
    "id": "4FbQjqWIgW9W"
   },
   "source": [
    "### Тут нужно нарисовать картинки, с результатими сегментации из тестового сета"
   ]
  },
  {
   "cell_type": "code",
   "execution_count": 0,
   "metadata": {
    "colab": {},
    "colab_type": "code",
    "id": "_jKg3kBzgW9X"
   },
   "outputs": [],
   "source": [
    "# TODO\n",
    "# Для рандомного изображения рисуем его маску сгенерированную сеткой, само изображение и результат сегментации"
   ]
  },
  {
   "cell_type": "code",
   "execution_count": 0,
   "metadata": {
    "colab": {},
    "colab_type": "code",
    "id": "Fm1NQYchgW9a"
   },
   "outputs": [],
   "source": [
    "import random\n",
    "random.seed()"
   ]
  },
  {
   "cell_type": "code",
   "execution_count": 0,
   "metadata": {
    "colab": {},
    "colab_type": "code",
    "id": "8ThQ0M4MDcZC"
   },
   "outputs": [],
   "source": [
    "import sys\n",
    "sys.path.append('gdrive/My Drive/New_hw_5_NN_test/')\n",
    "import carvana_dataset as cv\n",
    "\n",
    "PATH = 'gdrive/My Drive/Technotrack_hw_5/data'\n",
    "log = './log/'\n",
    "train = PATH + '/train/'\n",
    "train_masks = PATH + '/train_masks/'\n",
    "test = PATH + '/test/'\n",
    "test_masks = PATH + '/test_masks'\n",
    "\n",
    "\n",
    "ds = cv.CarvanaDataset(train, train_masks) \n",
    "ds_test = cv.CarvanaDataset(test, test_masks)"
   ]
  },
  {
   "cell_type": "code",
   "execution_count": 0,
   "metadata": {
    "colab": {},
    "colab_type": "code",
    "id": "v6yI4xhr6vnC"
   },
   "outputs": [],
   "source": [
    "index = random.randint(0, len(ds_test))"
   ]
  },
  {
   "cell_type": "code",
   "execution_count": 0,
   "metadata": {
    "colab": {},
    "colab_type": "code",
    "id": "TOuZLqZS6wP-"
   },
   "outputs": [],
   "source": [
    "test_image, test_mask = ds_test[index]\n",
    "\n",
    "useCuda = True\n",
    "\n",
    "if useCuda == True:\n",
    "    test_image = test_image.cuda()\n",
    "    test_mask = test_mask.cuda()\n",
    "\n",
    "test_mask = test_mask.squeeze(0)"
   ]
  },
  {
   "cell_type": "code",
   "execution_count": 14,
   "metadata": {
    "colab": {
     "base_uri": "https://localhost:8080/",
     "height": 287
    },
    "colab_type": "code",
    "id": "SlmS5ztQYqUm",
    "outputId": "defd5578-9e0b-4806-9c1f-65e64f36a79c"
   },
   "outputs": [
    {
     "data": {
      "text/plain": [
       "<matplotlib.image.AxesImage at 0x7f7bfc26b908>"
      ]
     },
     "execution_count": 14,
     "metadata": {
      "tags": []
     },
     "output_type": "execute_result"
    },
    {
     "data": {
      "image/png": "[encoded data removed]",
      "text/plain": [
       "<Figure size 432x288 with 1 Axes>"
      ]
     },
     "metadata": {
      "tags": []
     },
     "output_type": "display_data"
    }
   ],
   "source": [
    "from torchvision.transforms import ToPILImage\n",
    "to_PIL_img = ToPILImage()\n",
    "\n",
    "plt.imshow(to_PIL_img(test_image.detach().cpu()))"
   ]
  },
  {
   "cell_type": "code",
   "execution_count": 15,
   "metadata": {
    "colab": {
     "base_uri": "https://localhost:8080/",
     "height": 287
    },
    "colab_type": "code",
    "id": "llpFgrKP61aL",
    "outputId": "72abce90-7b9f-4228-f75a-69b340e627d7"
   },
   "outputs": [
    {
     "data": {
      "text/plain": [
       "<matplotlib.image.AxesImage at 0x7f7bfc4f7a58>"
      ]
     },
     "execution_count": 15,
     "metadata": {
      "tags": []
     },
     "output_type": "execute_result"
    },
    {
     "data": {
      "image/png": "[encoded data removed]",
      "text/plain": [
       "<Figure size 432x288 with 1 Axes>"
      ]
     },
     "metadata": {
      "tags": []
     },
     "output_type": "display_data"
    }
   ],
   "source": [
    "# Изображение, полученное сеткой.\n",
    "\n",
    "net_image = net(test_image.unsqueeze(0)).chunk(2, dim=1)[0].squeeze(0).squeeze(0).cpu()\n",
    "plt.imshow(net_image.detach().numpy(), cmap='gray')"
   ]
  },
  {
   "cell_type": "code",
   "execution_count": 16,
   "metadata": {
    "colab": {
     "base_uri": "https://localhost:8080/",
     "height": 287
    },
    "colab_type": "code",
    "id": "HN-lOg8ADktm",
    "outputId": "95558b90-42a9-4c1d-b770-5e5324dfae4c"
   },
   "outputs": [
    {
     "data": {
      "text/plain": [
       "<matplotlib.image.AxesImage at 0x7f7bfc142a20>"
      ]
     },
     "execution_count": 16,
     "metadata": {
      "tags": []
     },
     "output_type": "execute_result"
    },
    {
     "data": {
      "image/png": "[encoded data removed]",
      "text/plain": [
       "<Figure size 432x288 with 1 Axes>"
      ]
     },
     "metadata": {
      "tags": []
     },
     "output_type": "display_data"
    }
   ],
   "source": [
    "# Реальное изображение.\n",
    "\n",
    "plt.imshow(test_mask.detach().cpu().numpy(), cmap='gray')"
   ]
  }
 ],
 "metadata": {
  "accelerator": "GPU",
  "colab": {
   "name": "HW_5_ObjectSegmentation.ipynb",
   "provenance": [],
   "version": "0.3.2"
  },
  "kernelspec": {
   "display_name": "Python 3",
   "language": "python",
   "name": "python3"
  },
  "language_info": {
   "codemirror_mode": {
    "name": "ipython",
    "version": 3
   },
   "file_extension": ".py",
   "mimetype": "text/x-python",
   "name": "python",
   "nbconvert_exporter": "python",
   "pygments_lexer": "ipython3",
   "version": "3.7.1"
  }
 },
 "nbformat": 4,
 "nbformat_minor": 1
}
