{
 "cells": [
  {
   "cell_type": "markdown",
   "metadata": {},
   "source": [
    "## Домашнее задание, вычисление аддитивного аттеншна"
   ]
  },
  {
   "cell_type": "code",
   "execution_count": 1,
   "metadata": {},
   "outputs": [],
   "source": [
    "#!/usr/bin/env python2\n",
    "# -*- coding: utf-8 -*-"
   ]
  },
  {
   "cell_type": "markdown",
   "metadata": {},
   "source": [
    "готовый ноутбук слать на o.shlyazhko@corp.mail.ru с заголовком \"Домашнее задание по лекции seq2seq (Ваши Фамилия и Имя)\""
   ]
  },
  {
   "cell_type": "code",
   "execution_count": 2,
   "metadata": {},
   "outputs": [],
   "source": [
    "from tqdm import tqdm_notebook\n",
    "from io import open\n",
    "import unicodedata\n",
    "import string\n",
    "import re\n",
    "import random\n",
    "import time\n",
    "import math\n",
    "\n",
    "import matplotlib.pyplot as plt\n",
    "plt.switch_backend('agg')\n",
    "import matplotlib.ticker as ticker\n",
    "import numpy as np\n",
    "\n",
    "import torch\n",
    "import torch.nn as nn\n",
    "from torch import optim\n",
    "import torch.nn.functional as F\n",
    "\n",
    "if torch.cuda.is_available():\n",
    "    print('CUDA')\n",
    "device = torch.device(\"cuda\" if torch.cuda.is_available() else \"cpu\")"
   ]
  },
  {
   "cell_type": "code",
   "execution_count": 3,
   "metadata": {},
   "outputs": [],
   "source": [
    "SOS_token = 0\n",
    "EOS_token = 1\n",
    "\n",
    "class Lang:\n",
    "    def __init__(self, name):\n",
    "        self.name = name\n",
    "        self.word2index = {}\n",
    "        self.word2count = {}\n",
    "        self.index2word = {SOS_token: \"SOS\", EOS_token: \"EOS\"}\n",
    "        self.n_words = len(self.index2word)\n",
    "\n",
    "    def addSentence(self, sentence):\n",
    "        for word in sentence.split(' '):\n",
    "            self.addWord(word)\n",
    "\n",
    "    def addWord(self, word):\n",
    "        if word not in self.word2index:\n",
    "            self.word2index[word] = self.n_words\n",
    "            self.word2count[word] = 1\n",
    "            self.index2word[self.n_words] = word\n",
    "            self.n_words += 1\n",
    "        else:\n",
    "            self.word2count[word] += 1"
   ]
  },
  {
   "cell_type": "code",
   "execution_count": 54,
   "metadata": {},
   "outputs": [],
   "source": [
    "#!tail rus_eng_small.txt"
   ]
  },
  {
   "cell_type": "code",
   "execution_count": 5,
   "metadata": {},
   "outputs": [],
   "source": [
    "def readLangs():\n",
    "    print(\"Loading dataset...\")\n",
    "    pairs = []\n",
    "    # Read the file and split into lines\n",
    "    with open('rus_eng_small.txt', encoding='utf-8') as f:\n",
    "        for l in tqdm_notebook(f):\n",
    "            pair = [s for s in l.rstrip('\\n').split('\\t')]\n",
    "            pairs.append(pair)\n",
    "\n",
    "    return Lang('rus'), Lang('eng'), pairs"
   ]
  },
  {
   "cell_type": "code",
   "execution_count": 6,
   "metadata": {},
   "outputs": [
    {
     "name": "stdout",
     "output_type": "stream",
     "text": [
      "Loading dataset...\n"
     ]
    },
    {
     "data": {
      "application/vnd.jupyter.widget-view+json": {
       "model_id": "6a206d9db37a49e68dc5cc1dbdb95881",
       "version_major": 2,
       "version_minor": 0
      },
      "text/plain": [
       "HBox(children=(IntProgress(value=1, bar_style='info', max=1), HTML(value='')))"
      ]
     },
     "metadata": {},
     "output_type": "display_data"
    },
    {
     "name": "stdout",
     "output_type": "stream",
     "text": [
      "\n",
      "Read 19288 sentence pairs\n",
      "Counting words...\n",
      "Counted words:\n",
      "rus 8960\n",
      "eng 3914\n",
      "['вы шутите !', 'you re joking !']\n"
     ]
    }
   ],
   "source": [
    "def prepareData():\n",
    "    input_lang, output_lang, pairs = readLangs()\n",
    "    print(\"Read %s sentence pairs\" % len(pairs))\n",
    "    print(\"Counting words...\")\n",
    "    for pair in pairs:\n",
    "        input_lang.addSentence(pair[0])\n",
    "        output_lang.addSentence(pair[1])\n",
    "    print(\"Counted words:\")\n",
    "    print(input_lang.name, input_lang.n_words)\n",
    "    print(output_lang.name, output_lang.n_words)\n",
    "    return input_lang, output_lang, pairs\n",
    "\n",
    "\n",
    "input_lang, output_lang, pairs = prepareData()\n",
    "MAX_LENGTH = 10\n",
    "print(random.choice(pairs))"
   ]
  },
  {
   "cell_type": "code",
   "execution_count": 7,
   "metadata": {},
   "outputs": [],
   "source": [
    "def indexesFromSentence(lang, sentence):\n",
    "    return [lang.word2index[word] for word in sentence.split(' ')]\n",
    "\n",
    "\n",
    "def tensorFromSentence(lang, sentence):\n",
    "    indexes = indexesFromSentence(lang, sentence)\n",
    "    indexes.append(EOS_token)\n",
    "    return torch.tensor(indexes, dtype=torch.long, device=device).view(-1, 1)\n",
    "\n",
    "\n",
    "def tensorsFromPair(pair):\n",
    "    input_tensor = tensorFromSentence(input_lang, pair[0])\n",
    "    target_tensor = tensorFromSentence(output_lang, pair[1])\n",
    "    return (input_tensor, target_tensor)"
   ]
  },
  {
   "cell_type": "code",
   "execution_count": 8,
   "metadata": {},
   "outputs": [],
   "source": [
    "class EncoderRNN(nn.Module):\n",
    "    def __init__(self, input_size, nlayers, hidden_size):\n",
    "        super().__init__()\n",
    "        self.hidden_size = hidden_size\n",
    "        self.nlayers = nlayers\n",
    "\n",
    "        self.embedding = nn.Embedding(input_size, hidden_size)\n",
    "        self.rnn = nn.LSTM(hidden_size, hidden_size, nlayers)\n",
    "\n",
    "    def forward(self, x, hidden):\n",
    "        embedded = self.embedding(x)\n",
    "        output, hidden = self.rnn(embedded, hidden)\n",
    "        return output, hidden\n",
    "\n",
    "    def initHidden(self):\n",
    "        return torch.zeros(self.nlayers, 1, self.hidden_size, device=device), \\\n",
    "               torch.zeros(self.nlayers, 1, self.hidden_size, device=device)"
   ]
  },
  {
   "cell_type": "markdown",
   "metadata": {},
   "source": [
    "## Заполните метод вычисления аддитивного аттеншна в ячейке ниже."
   ]
  },
  {
   "cell_type": "markdown",
   "metadata": {},
   "source": [
    "готовый ноутбук слать на o.shlyazhko@corp.mail.ru с заголовком \"Домашнее задание по лекции seq2seq (Ваши Фамилия и Имя)\""
   ]
  },
  {
   "cell_type": "code",
   "execution_count": 9,
   "metadata": {},
   "outputs": [],
   "source": [
    "class AttnDecoder(nn.Module):\n",
    "    def __init__(self, hidden_size, nlayers, output_size, dropout_p=0.4):\n",
    "        super().__init__()\n",
    "        self.hidden_size = hidden_size\n",
    "        self.nlayers = nlayers\n",
    "        self.output_size = output_size\n",
    "        \n",
    "        self.dropout_p = dropout_p\n",
    "\n",
    "        self.embedding = nn.Embedding(self.output_size, self.hidden_size)\n",
    "        self.attn_combine = nn.Linear(self.hidden_size * 2, self.hidden_size)\n",
    "        \n",
    "        # !!! Define layers needed for additive attention here\n",
    "        \n",
    "        self.dropout = nn.Dropout(self.dropout_p)\n",
    "        self.W_h = torch.rand(hidden_size, hidden_size)\n",
    "        self.W_s = torch.rand(hidden_size, hidden_size)\n",
    "        self.v_a = torch.rand(hidden_size ,1)\n",
    "        self.Tanh = nn.Tanh()\n",
    "        \n",
    "        self.rnn = nn.LSTM(self.hidden_size, self.hidden_size, nlayers)\n",
    "        self.out = nn.Linear(self.hidden_size, self.output_size)\n",
    "        \n",
    "\n",
    "    def forward(self, x, hidden, encoder_outputs):\n",
    "        \"\"\"\n",
    "        :param x: [T2,B] - входной тензор с предыдущими словами размерностью timestep на batch\n",
    "        :param hidden [1, B, C] - состояние рнн слоя\n",
    "        :param encoder_outputs [T1,B,C] - выходы всех шагов энкодера\n",
    "        :return output: [T2,B,C], hidden - С=hidden_size, возвращается только последний hidden state\n",
    "        \"\"\"\n",
    "        embedded = self.embedding(x) # [T2,B,C]\n",
    "        embedded = self.dropout(embedded)\n",
    "        embedded = embedded.transpose(0, 1) # [B,T2,C]\n",
    "        encoder_outputs = encoder_outputs.transpose(0, 1) # [B,T1,C]\n",
    "\n",
    "        context, attn_weights = self.attention(encoder_outputs, embedded)\n",
    "        \n",
    "        output = torch.cat((embedded, context), dim=-1) # [[B,1,C];[B,1,C]] -> [B,1,C*2]\n",
    "        output = self.attn_combine(output).transpose(0,1) # [B,1,C*2] * [C*2,C] = [B,1,C] -transpose-> [1,B,C]\n",
    "        output = F.relu(output)\n",
    "        output, hidden = self.rnn(output, hidden)\n",
    "\n",
    "        logits = self.out(output)\n",
    "        output = F.log_softmax(logits, dim=-1)\n",
    "        \n",
    "        return output, hidden, attn_weights\n",
    "    \n",
    "    def attention(self, encoder_outputs, h):        \n",
    "        embedded_t = h.transpose(1, -1)\n",
    "        \n",
    "        emb_expand = torch.matmul(self.W_h, embedded_t).unsqueeze(-1).expand(-1,\n",
    "                                                                             -1, -1, encoder_outputs.size(1)).transpose(2, 3)\n",
    "        enc_expand = torch.matmul(self.W_s, encoder_outputs.transpose(1, 2)).unsqueeze(-1).expand(-1,\n",
    "                                                                                                  -1, -1, embedded_t.size(2))\n",
    "\n",
    "        res = torch.matmul(self.v_a.transpose(0, 1), self.Tanh(emb_expand + enc_expand).permute(0, 2,\n",
    "                                                                        3, 1).unsqueeze(-1)).squeeze(-1).squeeze(-1)\n",
    "        \n",
    "        attn_weights = F.softmax(res, dim = -2)\n",
    "        context = torch.bmm(attn_weights.transpose(1,-1), encoder_outputs)\n",
    "        \n",
    "        return context, attn_weights"
   ]
  },
  {
   "cell_type": "code",
   "execution_count": 10,
   "metadata": {},
   "outputs": [],
   "source": [
    "def train(input_tensor, target_tensor, \n",
    "          encoder, decoder, \n",
    "          optimizer,  criterion, max_length=MAX_LENGTH):\n",
    "    \n",
    "    encoder_hidden = encoder.initHidden()\n",
    "\n",
    "    optimizer.zero_grad()\n",
    "\n",
    "    input_length = input_tensor.size(0)\n",
    "    target_length = target_tensor.size(0)\n",
    "\n",
    "    loss = 0\n",
    "\n",
    "    encoder_outputs, encoder_hidden = encoder(input_tensor, encoder_hidden)\n",
    "\n",
    "    decoder_input = torch.tensor([[SOS_token]], device=device)\n",
    "\n",
    "    decoder_hidden = encoder_hidden\n",
    "    \n",
    "    if teacher_forcing_ratio == 1.: # use fast parallel mode\n",
    "        decoder_input = torch.cat([decoder_input, target_tensor[:-1]], dim=0)\n",
    "        decoder_outputs, decoder_hidden, decoder_attention = decoder(decoder_input, decoder_hidden, encoder_outputs)\n",
    "        decoder_outputs = decoder_outputs.squeeze()\n",
    "        loss += criterion(decoder_outputs, target_tensor.squeeze())\n",
    "        loss_value = loss.item()\n",
    "    else:\n",
    "        for di in range(target_length):\n",
    "            use_teacher_forcing = True if random.random() < teacher_forcing_ratio else False\n",
    "            decoder_output, decoder_hidden, decoder_attention = decoder(decoder_input, decoder_hidden, encoder_outputs)\n",
    "            decoder_output = decoder_output.view(decoder_output.size(0), -1)\n",
    "            loss += criterion(decoder_output, target_tensor[di])\n",
    "            if use_teacher_forcing:\n",
    "                decoder_input = target_tensor[di].unsqueeze(0)  # Teacher forcing\n",
    "            else:\n",
    "                topv, topi = decoder_output.topk(1)\n",
    "                decoder_input = topi.detach()\n",
    "        loss_value =  loss.item() / target_length\n",
    "\n",
    "    loss.backward()\n",
    "\n",
    "    optimizer.step()\n",
    "\n",
    "    return loss_value"
   ]
  },
  {
   "cell_type": "code",
   "execution_count": 11,
   "metadata": {},
   "outputs": [],
   "source": [
    "def as_minutes(s):\n",
    "    m = math.floor(s / 60)\n",
    "    s -= m * 60\n",
    "    return '%dm %ds' % (m, s)\n",
    "\n",
    "def time_since(since, percent):\n",
    "    now = time.time()\n",
    "    s = now - since\n",
    "    es = s / (percent)\n",
    "    rs = es - s\n",
    "    return '%s (- %s)' % (as_minutes(s), as_minutes(rs))"
   ]
  },
  {
   "cell_type": "code",
   "execution_count": 12,
   "metadata": {},
   "outputs": [],
   "source": [
    "def show_plot(points):\n",
    "    plt.figure()\n",
    "    fig, ax = plt.subplots()\n",
    "    # this locator puts ticks at regular intervals\n",
    "    loc = ticker.MultipleLocator(base=0.2)\n",
    "    ax.yaxis.set_major_locator(loc)\n",
    "    plt.plot(points)"
   ]
  },
  {
   "cell_type": "code",
   "execution_count": 13,
   "metadata": {},
   "outputs": [],
   "source": [
    "def run_training(encoder, decoder, n_iters, print_every=1000, plot_every=100):\n",
    "    print('Train')\n",
    "    start = time.time()\n",
    "    plot_losses = []\n",
    "    print_loss_total = 0  # Reset every print_every\n",
    "    plot_loss_total = 0  # Reset every plot_every\n",
    "\n",
    "    for iter in range(1, n_iters + 1):\n",
    "        training_pair = training_pairs[iter - 1]\n",
    "        input_tensor = training_pair[0]\n",
    "        target_tensor = training_pair[1]\n",
    "        loss = train(input_tensor, target_tensor, encoder, decoder, optimizer, criterion)\n",
    "        print_loss_total += loss\n",
    "        plot_loss_total += loss\n",
    "\n",
    "        if iter % print_every == 0:\n",
    "            print_loss_avg = print_loss_total / print_every\n",
    "            print_loss_total = 0\n",
    "            dt = time_since(start, iter / n_iters)\n",
    "            print('%s (%d %d%%) %.4f' % (dt, iter, iter / n_iters * 100, print_loss_avg))\n",
    "\n",
    "        if iter % plot_every == 0:\n",
    "            plot_loss_avg = plot_loss_total / plot_every\n",
    "            plot_losses.append(plot_loss_avg)\n",
    "            plot_loss_total = 0\n",
    "\n",
    "    show_plot(plot_losses)"
   ]
  },
  {
   "cell_type": "code",
   "execution_count": 14,
   "metadata": {},
   "outputs": [],
   "source": [
    "def evaluate(encoder, decoder, sentence, max_length=MAX_LENGTH):\n",
    "    with torch.no_grad():\n",
    "        input_tensor = tensorFromSentence(input_lang, sentence)\n",
    "        input_length = input_tensor.size()[0]\n",
    "        \n",
    "        encoder_hidden = encoder.initHidden()\n",
    "        encoder_outputs, encoder_hidden = encoder(input_tensor, encoder_hidden)\n",
    "\n",
    "        decoder_input = torch.tensor([[SOS_token]], device=device)\n",
    "        decoder_hidden = encoder_hidden # STATE TRANSFER\n",
    "    \n",
    "        decoded_words = []\n",
    "        decoder_attentions = []\n",
    "        for di in range(max_length):\n",
    "            use_teacher_forcing = True if random.random() < teacher_forcing_ratio else False\n",
    "            decoder_output, decoder_hidden, decoder_attention = decoder(decoder_input, decoder_hidden, encoder_outputs)\n",
    "            decoder_attentions.append(decoder_attention)\n",
    "            decoder_output = decoder_output.view(decoder_output.size(0), -1)\n",
    "            topv, topi = decoder_output.topk(1)\n",
    "            decoder_input = topi.detach()\n",
    "            if topi.item() == EOS_token:\n",
    "                break\n",
    "            word = output_lang.index2word[topi.item()]\n",
    "            decoded_words.append(word)\n",
    "\n",
    "        return decoded_words, decoder_attentions"
   ]
  },
  {
   "cell_type": "code",
   "execution_count": 15,
   "metadata": {},
   "outputs": [],
   "source": [
    "def evaluate_randomly(encoder, decoder, n=10):\n",
    "    for i in range(n):\n",
    "        pair = random.choice(pairs)\n",
    "        print('>', pair[0])\n",
    "        print('=', pair[1])\n",
    "        output_words, attentions = evaluate(encoder, decoder, pair[0])\n",
    "        output_sentence = ' '.join(output_words)\n",
    "        print('<', output_sentence)\n",
    "        print('')"
   ]
  },
  {
   "cell_type": "code",
   "execution_count": 16,
   "metadata": {},
   "outputs": [
    {
     "data": {
      "application/vnd.jupyter.widget-view+json": {
       "model_id": "f47c0ea73e974d439740d06b4866757c",
       "version_major": 2,
       "version_minor": 0
      },
      "text/plain": [
       "HBox(children=(IntProgress(value=0, description='prepare set', max=10000, style=ProgressStyle(description_widt…"
      ]
     },
     "metadata": {},
     "output_type": "display_data"
    },
    {
     "name": "stdout",
     "output_type": "stream",
     "text": [
      "\n"
     ]
    }
   ],
   "source": [
    "n_iters=10000\n",
    "training_pairs = [tensorsFromPair(random.choice(pairs)) for i in tqdm_notebook(range(n_iters), desc='prepare set')]"
   ]
  },
  {
   "cell_type": "code",
   "execution_count": 17,
   "metadata": {},
   "outputs": [],
   "source": [
    "hidden_size = 256\n",
    "encoder = EncoderRNN(input_lang.n_words, 1, hidden_size).to(device)\n",
    "decoder = AttnDecoder(hidden_size, 1, output_lang.n_words, dropout_p=0.1).to(device)"
   ]
  },
  {
   "cell_type": "code",
   "execution_count": 42,
   "metadata": {},
   "outputs": [],
   "source": [
    "teacher_forcing_ratio = 1.\n",
    "learning_rate=0.00005\n",
    "optimizer = optim.Adam(list(encoder.parameters())+list(decoder.parameters()), lr=learning_rate)\n",
    "criterion = nn.NLLLoss()"
   ]
  },
  {
   "cell_type": "markdown",
   "metadata": {},
   "source": [
    "### Не забудьте запустить тренировку в ячейке ниже, а затем и evaluation"
   ]
  },
  {
   "cell_type": "code",
   "execution_count": 43,
   "metadata": {},
   "outputs": [
    {
     "name": "stdout",
     "output_type": "stream",
     "text": [
      "Train\n",
      "0m 16s (- 26m 41s) (100 1%) 0.3003\n",
      "0m 31s (- 25m 26s) (200 2%) 0.2977\n",
      "0m 46s (- 25m 4s) (300 3%) 0.2853\n",
      "1m 1s (- 24m 31s) (400 4%) 0.3219\n",
      "1m 17s (- 24m 24s) (500 5%) 0.2592\n",
      "1m 32s (- 24m 2s) (600 6%) 0.2777\n",
      "1m 48s (- 23m 56s) (700 7%) 0.2959\n",
      "2m 3s (- 23m 41s) (800 8%) 0.3265\n",
      "2m 19s (- 23m 34s) (900 9%) 0.3033\n",
      "2m 36s (- 23m 27s) (1000 10%) 0.3059\n",
      "2m 54s (- 23m 28s) (1100 11%) 0.2977\n",
      "3m 11s (- 23m 22s) (1200 12%) 0.3467\n",
      "3m 28s (- 23m 17s) (1300 13%) 0.2533\n",
      "3m 47s (- 23m 15s) (1400 14%) 0.3104\n",
      "4m 5s (- 23m 9s) (1500 15%) 0.3435\n",
      "4m 22s (- 22m 58s) (1600 16%) 0.2688\n",
      "4m 39s (- 22m 46s) (1700 17%) 0.2772\n",
      "4m 57s (- 22m 33s) (1800 18%) 0.3330\n",
      "5m 15s (- 22m 25s) (1900 19%) 0.2747\n",
      "5m 33s (- 22m 12s) (2000 20%) 0.2798\n",
      "5m 50s (- 21m 59s) (2100 21%) 0.2955\n",
      "6m 9s (- 21m 48s) (2200 22%) 0.3385\n",
      "6m 27s (- 21m 36s) (2300 23%) 0.3215\n",
      "6m 45s (- 21m 24s) (2400 24%) 0.2504\n",
      "7m 4s (- 21m 12s) (2500 25%) 0.2938\n",
      "7m 24s (- 21m 5s) (2600 26%) 0.3801\n",
      "7m 45s (- 20m 58s) (2700 27%) 0.2746\n",
      "8m 3s (- 20m 43s) (2800 28%) 0.3246\n",
      "8m 23s (- 20m 33s) (2900 28%) 0.2880\n",
      "8m 43s (- 20m 22s) (3000 30%) 0.2688\n",
      "9m 4s (- 20m 10s) (3100 31%) 0.2919\n",
      "9m 24s (- 19m 59s) (3200 32%) 0.3137\n",
      "9m 44s (- 19m 45s) (3300 33%) 0.2351\n",
      "10m 4s (- 19m 32s) (3400 34%) 0.2537\n",
      "10m 23s (- 19m 18s) (3500 35%) 0.2279\n",
      "10m 44s (- 19m 6s) (3600 36%) 0.2999\n",
      "11m 5s (- 18m 52s) (3700 37%) 0.2197\n",
      "11m 25s (- 18m 39s) (3800 38%) 0.2001\n",
      "11m 46s (- 18m 25s) (3900 39%) 0.2050\n",
      "12m 7s (- 18m 11s) (4000 40%) 0.2450\n",
      "12m 27s (- 17m 56s) (4100 41%) 0.2249\n",
      "12m 49s (- 17m 42s) (4200 42%) 0.2699\n",
      "13m 10s (- 17m 27s) (4300 43%) 0.2538\n",
      "13m 30s (- 17m 12s) (4400 44%) 0.2589\n",
      "13m 51s (- 16m 56s) (4500 45%) 0.2388\n",
      "14m 11s (- 16m 39s) (4600 46%) 0.1951\n",
      "14m 31s (- 16m 22s) (4700 47%) 0.2497\n",
      "14m 51s (- 16m 5s) (4800 48%) 0.2726\n",
      "15m 11s (- 15m 48s) (4900 49%) 0.2693\n",
      "15m 31s (- 15m 31s) (5000 50%) 0.2369\n",
      "15m 52s (- 15m 14s) (5100 51%) 0.2631\n",
      "16m 15s (- 15m 0s) (5200 52%) 0.2082\n",
      "16m 36s (- 14m 43s) (5300 53%) 0.2084\n",
      "16m 57s (- 14m 27s) (5400 54%) 0.2769\n",
      "17m 20s (- 14m 11s) (5500 55%) 0.2403\n",
      "17m 42s (- 13m 55s) (5600 56%) 0.2301\n",
      "18m 4s (- 13m 38s) (5700 56%) 0.1757\n",
      "18m 26s (- 13m 20s) (5800 57%) 0.2214\n",
      "18m 47s (- 13m 3s) (5900 59%) 0.1995\n",
      "19m 7s (- 12m 45s) (6000 60%) 0.2560\n",
      "19m 29s (- 12m 27s) (6100 61%) 0.2279\n",
      "19m 50s (- 12m 9s) (6200 62%) 0.2180\n",
      "20m 11s (- 11m 51s) (6300 63%) 0.2325\n",
      "20m 32s (- 11m 33s) (6400 64%) 0.1808\n",
      "20m 55s (- 11m 16s) (6500 65%) 0.1710\n",
      "21m 17s (- 10m 58s) (6600 66%) 0.2038\n",
      "21m 41s (- 10m 40s) (6700 67%) 0.2199\n",
      "22m 4s (- 10m 23s) (6800 68%) 0.2049\n",
      "22m 27s (- 10m 5s) (6900 69%) 0.2044\n",
      "22m 50s (- 9m 47s) (7000 70%) 0.2203\n",
      "23m 12s (- 9m 28s) (7100 71%) 0.1787\n",
      "23m 34s (- 9m 10s) (7200 72%) 0.1486\n",
      "23m 56s (- 8m 51s) (7300 73%) 0.1767\n",
      "24m 19s (- 8m 32s) (7400 74%) 0.1481\n",
      "24m 41s (- 8m 13s) (7500 75%) 0.1920\n",
      "25m 4s (- 7m 54s) (7600 76%) 0.1750\n",
      "25m 27s (- 7m 36s) (7700 77%) 0.1601\n",
      "25m 52s (- 7m 17s) (7800 78%) 0.1448\n",
      "26m 18s (- 6m 59s) (7900 79%) 0.2135\n",
      "26m 41s (- 6m 40s) (8000 80%) 0.1781\n",
      "27m 4s (- 6m 21s) (8100 81%) 0.1425\n",
      "27m 27s (- 6m 1s) (8200 82%) 0.1605\n",
      "27m 49s (- 5m 41s) (8300 83%) 0.1685\n",
      "28m 12s (- 5m 22s) (8400 84%) 0.1419\n",
      "28m 34s (- 5m 2s) (8500 85%) 0.1543\n",
      "28m 55s (- 4m 42s) (8600 86%) 0.1654\n",
      "29m 18s (- 4m 22s) (8700 87%) 0.1563\n",
      "29m 40s (- 4m 2s) (8800 88%) 0.2081\n",
      "30m 2s (- 3m 42s) (8900 89%) 0.1805\n",
      "30m 25s (- 3m 22s) (9000 90%) 0.1657\n",
      "30m 48s (- 3m 2s) (9100 91%) 0.1532\n",
      "31m 12s (- 2m 42s) (9200 92%) 0.1132\n",
      "31m 36s (- 2m 22s) (9300 93%) 0.1483\n",
      "32m 0s (- 2m 2s) (9400 94%) 0.1279\n",
      "32m 23s (- 1m 42s) (9500 95%) 0.1683\n",
      "32m 46s (- 1m 21s) (9600 96%) 0.1280\n",
      "33m 8s (- 1m 1s) (9700 97%) 0.1255\n",
      "33m 31s (- 0m 41s) (9800 98%) 0.1461\n",
      "33m 53s (- 0m 20s) (9900 99%) 0.1575\n",
      "34m 16s (- 0m 0s) (10000 100%) 0.1437\n"
     ]
    },
    {
     "data": {
      "text/plain": [
       "<Figure size 432x288 with 0 Axes>"
      ]
     },
     "metadata": {},
     "output_type": "display_data"
    },
    {
     "data": {
      "image/png": "[encoded data removed]",
      "text/plain": [
       "<Figure size 432x288 with 1 Axes>"
      ]
     },
     "metadata": {
      "needs_background": "light"
     },
     "output_type": "display_data"
    }
   ],
   "source": [
    "run_training(encoder, decoder, n_iters, print_every=100)"
   ]
  },
  {
   "cell_type": "code",
   "execution_count": 52,
   "metadata": {},
   "outputs": [
    {
     "name": "stdout",
     "output_type": "stream",
     "text": [
      "> я рад, что вы уговорили меня пойти .\n",
      "= i m glad you talked me into going .\n",
      "< i m glad you came today .\n",
      "\n",
      "> я старше, чем твой брат .\n",
      "= i am older than your brother .\n",
      "< i m older than your brother .\n",
      "\n",
      "> ты, вероятно, ошибаешься .\n",
      "= you re probably mistaken .\n",
      "< you re probably mistaken .\n",
      "\n",
      "> меня пока не убедили .\n",
      "= i m not convinced yet .\n",
      "< i m not feeling nauseous .\n",
      "\n",
      "> ты всего на три года старше меня .\n",
      "= you re only three years older than me .\n",
      "< you re only three years older than me .\n",
      "\n",
      "> она лежит с простудой .\n",
      "= she is down with a cold .\n",
      "< she is poor with a student .\n",
      "\n",
      "> я ваша, а вы мой .\n",
      "= i am yours and you are mine .\n",
      "< i am yours and you are .\n",
      "\n",
      "> сейчас я занят написанием книги .\n",
      "= i m now busy writing a book .\n",
      "< i m busy doing homework now .\n",
      "\n",
      "> у нас будет ребёнок .\n",
      "= we re going to have a baby .\n",
      "< we re a little early today .\n",
      "\n",
      "> удивительно встретить тебя тут .\n",
      "= i m surprised to find you here .\n",
      "< you re out of danger .\n",
      "\n"
     ]
    }
   ],
   "source": [
    "evaluate_randomly(encoder, decoder)"
   ]
  },
  {
   "cell_type": "code",
   "execution_count": 53,
   "metadata": {
    "scrolled": false
   },
   "outputs": [
    {
     "name": "stdout",
     "output_type": "stream",
     "text": [
      "input = я очень осторожна .\n",
      "output = i m really careful .\n"
     ]
    },
    {
     "data": {
      "image/png": "[encoded data removed]",
      "text/plain": [
       "<Figure size 432x288 with 2 Axes>"
      ]
     },
     "metadata": {
      "needs_background": "light"
     },
     "output_type": "display_data"
    },
    {
     "name": "stdout",
     "output_type": "stream",
     "text": [
      "input = они всё ещё живут со своими родителями .\n",
      "output = they are still living in love with .\n"
     ]
    },
    {
     "data": {
      "image/png": "[encoded data removed]",
      "text/plain": [
       "<Figure size 432x288 with 2 Axes>"
      ]
     },
     "metadata": {
      "needs_background": "light"
     },
     "output_type": "display_data"
    }
   ],
   "source": [
    "def showAttention(input_sentence, output_words, attentions):\n",
    "    # Set up figure with colorbar\n",
    "    fig = plt.figure()\n",
    "    ax = fig.add_subplot(111)\n",
    "    cax = ax.matshow(attentions.numpy(), cmap='bone')\n",
    "    fig.colorbar(cax)\n",
    "\n",
    "    # Set up axes\n",
    "    ax.set_yticklabels([''] + input_sentence.split(' ') +\n",
    "                       ['<EOS>'], rotation=90)\n",
    "    ax.set_xticklabels([''] + output_words)\n",
    "\n",
    "    # Show label at every tick\n",
    "    ax.xaxis.set_major_locator(ticker.MultipleLocator(1))\n",
    "    ax.yaxis.set_major_locator(ticker.MultipleLocator(1))\n",
    "\n",
    "    plt.show()\n",
    "\n",
    "\n",
    "def evaluateAndShowAttention(input_sentence):\n",
    "    output_words, attentions = evaluate(encoder, decoder, input_sentence)\n",
    "    attentions = torch.cat(attentions).squeeze().cpu()\n",
    "    print('input =', input_sentence)\n",
    "    print('output =', ' '.join(output_words))\n",
    "    showAttention(input_sentence, output_words, attentions)\n",
    "\n",
    "\n",
    "evaluateAndShowAttention(\"я очень осторожна .\")\n",
    "evaluateAndShowAttention(\"они всё ещё живут со своими родителями .\")"
   ]
  },
  {
   "cell_type": "code",
   "execution_count": null,
   "metadata": {},
   "outputs": [],
   "source": []
  }
 ],
 "metadata": {
  "kernelspec": {
   "display_name": "technokek",
   "language": "python",
   "name": "technokek"
  },
  "language_info": {
   "codemirror_mode": {
    "name": "ipython",
    "version": 3
   },
   "file_extension": ".py",
   "mimetype": "text/x-python",
   "name": "python",
   "nbconvert_exporter": "python",
   "pygments_lexer": "ipython3",
   "version": "3.6.8"
  }
 },
 "nbformat": 4,
 "nbformat_minor": 2
}
